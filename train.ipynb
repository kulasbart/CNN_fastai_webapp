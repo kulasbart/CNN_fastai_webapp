{
 "cells": [
  {
   "cell_type": "code",
   "execution_count": null,
   "id": "a03e0999-3a00-493a-afc0-1b41bb597890",
   "metadata": {},
   "outputs": [],
   "source": [
    "import fastbook\n",
    "from fastbook import *\n",
    "from fastai.vision.widgets import *\n",
    "import fastai"
   ]
  },
  {
   "cell_type": "code",
   "execution_count": null,
   "id": "d70ddd10-3c17-4ecf-9b0d-37f1f90cdbd1",
   "metadata": {},
   "outputs": [],
   "source": [
    "search_images_ddg"
   ]
  },
  {
   "cell_type": "code",
   "execution_count": null,
   "id": "f6a1ebb7-8806-46f1-afdb-0a6ac57606d7",
   "metadata": {},
   "outputs": [],
   "source": [
    "fastai.torch_core.default_device(False)"
   ]
  },
  {
   "cell_type": "code",
   "execution_count": null,
   "id": "cc6dbccb-51f0-461a-bb49-8ef16687f235",
   "metadata": {},
   "outputs": [],
   "source": [
    "# search duckduckgo and download images to save locally \n",
    "\n",
    "results = search_images_ddg('grizzly bear')\n",
    "ims = results.attrgot('contentUrl')\n",
    "len(ims)"
   ]
  },
  {
   "cell_type": "code",
   "execution_count": null,
   "id": "9fd11d04-77d6-4adf-bb3b-1c4456d7af7e",
   "metadata": {},
   "outputs": [],
   "source": [
    "dest = 'images/grizzly.jpg'\n",
    "download_url(ims[0], dest, show_progress = False)"
   ]
  },
  {
   "cell_type": "code",
   "execution_count": null,
   "id": "a30998e7-9184-4779-9cf3-a40d546c84a9",
   "metadata": {},
   "outputs": [],
   "source": [
    "# check downloaded image\n",
    "\n",
    "im = Image.open(dest)\n",
    "im.to_thumb(128,128)"
   ]
  },
  {
   "cell_type": "code",
   "execution_count": null,
   "id": "9bce9d86-808d-4f4a-876a-474fbcb8ed76",
   "metadata": {},
   "outputs": [],
   "source": [
    "bear_types = 'grizzly','black','teddy'\n",
    "path = Path('bears')"
   ]
  },
  {
   "cell_type": "code",
   "execution_count": null,
   "id": "8fc54278-ca55-4373-b015-49dd47d013fc",
   "metadata": {},
   "outputs": [],
   "source": [
    "# download and organize images by folder\n",
    "\n",
    "bear_types = 'grizzly','black','teddy'\n",
    "path = Path('bears')\n",
    "\n",
    "if not path.exists():\n",
    "    path.mkdir()\n",
    "    for o in bear_types:\n",
    "        print(o)\n",
    "        dest = (path/o)\n",
    "        dest.mkdir(exist_ok=True)\n",
    "        results = search_images_ddg(f'{o} bear')\n",
    "        download_images(dest, urls=results)"
   ]
  },
  {
   "cell_type": "code",
   "execution_count": null,
   "id": "9f7668d9-fb64-4cf5-b513-25174ac7961a",
   "metadata": {},
   "outputs": [],
   "source": [
    "fns = get_image_files(path)\n",
    "fns"
   ]
  },
  {
   "cell_type": "code",
   "execution_count": null,
   "id": "d0db3c86-c17f-419b-8a39-4dd93bbf9f5e",
   "metadata": {},
   "outputs": [],
   "source": [
    "# check for corrupt images after download\n",
    "\n",
    "failed = verify_images(fns)\n",
    "failed"
   ]
  },
  {
   "cell_type": "code",
   "execution_count": null,
   "id": "3a474180-d7d3-4259-b88d-32638161c9db",
   "metadata": {},
   "outputs": [],
   "source": [
    "failed.map(Path.unlink)"
   ]
  },
  {
   "cell_type": "code",
   "execution_count": null,
   "id": "3887fe33-9789-48ba-8df7-7b08d6c65eda",
   "metadata": {},
   "outputs": [],
   "source": [
    "# Create DataLoaders for the downloaded dataset using fastai data block API\n",
    "\n",
    "bears = DataBlock(\n",
    "    blocks=(ImageBlock, CategoryBlock), \n",
    "    get_items=get_image_files, \n",
    "    splitter=RandomSplitter(valid_pct=0.2, seed=42),\n",
    "    get_y=parent_label,\n",
    "    item_tfms=Resize(128))"
   ]
  },
  {
   "cell_type": "code",
   "execution_count": null,
   "id": "bd7a903c-d286-4a54-b516-901021255764",
   "metadata": {},
   "outputs": [],
   "source": [
    "dls = bears.dataloaders(path)"
   ]
  },
  {
   "cell_type": "code",
   "execution_count": null,
   "id": "b0fdecbc-f754-43ed-a0f4-402ff2093765",
   "metadata": {},
   "outputs": [],
   "source": [
    "# inspect samples of data + labels\n",
    "# by default, Resize will crop the image to fit a square shape of the requested size, this can distort the image\n",
    "\n",
    "dls.valid.show_batch(max_n=4, nrows=1)"
   ]
  },
  {
   "cell_type": "code",
   "execution_count": null,
   "id": "928e07ce-5aac-4b93-aaf1-5feffd001d5b",
   "metadata": {},
   "outputs": [],
   "source": [
    "# an alternative is to use Squish\n",
    "\n",
    "bears = bears.new(item_tfms=Resize(128, ResizeMethod.Squish))\n",
    "dls = bears.dataloaders(path)\n",
    "dls.valid.show_batch(max_n=4, nrows=1)"
   ]
  },
  {
   "cell_type": "code",
   "execution_count": null,
   "id": "348b8ab5-faeb-47c1-95c1-776784a3ba94",
   "metadata": {},
   "outputs": [],
   "source": [
    "# Resize can also be replaced with RandomResizedCrop, a way to transform the downloaded images to augment the data\n",
    "\n",
    "bears = bears.new(item_tfms=RandomResizedCrop(128, min_scale=0.3))\n",
    "dls = bears.dataloaders(path)\n",
    "dls.train.show_batch(max_n=4, nrows=1, unique=True)"
   ]
  },
  {
   "cell_type": "code",
   "execution_count": null,
   "id": "ec0d9412-e76b-4276-8c82-93c8443ecbd3",
   "metadata": {},
   "outputs": [],
   "source": [
    "# Using RandomResizedCrop with an image size of 224 px, \n",
    "# which is fairly standard for image classification, and default aug_transforms: \n",
    "\n",
    "bears = bears.new(\n",
    "    item_tfms=RandomResizedCrop(224, min_scale=0.5),\n",
    "    batch_tfms=aug_transforms())"
   ]
  },
  {
   "cell_type": "code",
   "execution_count": null,
   "id": "3b7556b6-4b4e-479a-8bf9-9c0565d3c3e3",
   "metadata": {},
   "outputs": [],
   "source": [
    "# train\n",
    "\n",
    "learn = vision_learner(dls, resnet18, metrics=error_rate)\n",
    "learn.fine_tune(4)"
   ]
  },
  {
   "cell_type": "code",
   "execution_count": null,
   "id": "db7dc5c7-38bd-4558-b317-da6d50c5e067",
   "metadata": {},
   "outputs": [],
   "source": [
    "interp = ClassificationInterpretation.from_learner(learn)\n",
    "interp.plot_confusion_matrix()"
   ]
  },
  {
   "cell_type": "code",
   "execution_count": null,
   "id": "8d563668-7cf2-4a99-b307-1c739c1f188b",
   "metadata": {},
   "outputs": [],
   "source": [
    "# Great tool that plots the samples where the loss is the highest. These errors, representing high loss, can mean:\n",
    "# - the model was CORRECT without confidence\n",
    "# - the model was WRONG and highly confidence\n",
    "\n",
    "interp.plot_top_losses(5, nrows=5)"
   ]
  },
  {
   "cell_type": "code",
   "execution_count": null,
   "id": "5e8fa2be-fa51-4511-a948-f64ea7ddafcf",
   "metadata": {},
   "outputs": [],
   "source": [
    "# describes model\n",
    "learn.model"
   ]
  },
  {
   "cell_type": "code",
   "execution_count": null,
   "id": "6b69bdd9-55ac-4513-82c0-8df51b9829df",
   "metadata": {},
   "outputs": [],
   "source": [
    "# export model\n",
    "learn.export()"
   ]
  },
  {
   "cell_type": "code",
   "execution_count": null,
   "id": "1f3a65f9-9507-470b-aae2-e139ec46ac76",
   "metadata": {},
   "outputs": [],
   "source": []
  }
 ],
 "metadata": {
  "kernelspec": {
   "display_name": "Python (fastai10)",
   "language": "python",
   "name": "myenv"
  },
  "language_info": {
   "codemirror_mode": {
    "name": "ipython",
    "version": 3
   },
   "file_extension": ".py",
   "mimetype": "text/x-python",
   "name": "python",
   "nbconvert_exporter": "python",
   "pygments_lexer": "ipython3",
   "version": "3.10.6"
  }
 },
 "nbformat": 4,
 "nbformat_minor": 5
}
